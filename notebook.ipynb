{
 "cells": [
  {
   "cell_type": "code",
   "execution_count": 89,
   "metadata": {},
   "outputs": [],
   "source": [
    "import numpy as np\n",
    "import pandas as pd\n",
    "import matplotlib as plt\n",
    "from sklearn.cluster import KMeans"
   ]
  },
  {
   "cell_type": "markdown",
   "metadata": {},
   "source": [
    "DATASET"
   ]
  },
  {
   "cell_type": "code",
   "execution_count": 91,
   "metadata": {},
   "outputs": [
    {
     "data": {
      "text/plain": [
       "Index(['Unnamed: 0', 'age', 'sex', 'cp', 'trestbps', 'chol', 'fbs', 'restecg',\n",
       "       'thalach', 'exang', 'oldpeak', 'slope', 'ca', 'thal', 'target'],\n",
       "      dtype='object')"
      ]
     },
     "execution_count": 91,
     "metadata": {},
     "output_type": "execute_result"
    }
   ],
   "source": [
    "enfermedades = pd.read_csv('https://raw.githubusercontent.com/VictorD2/mainframes-server/main/data/DATOS%20CRUDOS.csv',engine=\"python\")\n",
    "enfermedades"
   ]
  },
  {
   "cell_type": "markdown",
   "metadata": {},
   "source": [
    "DICCIONARIO DE DATOS"
   ]
  },
  {
   "cell_type": "markdown",
   "metadata": {},
   "source": [
    "Diccionario de datos\n",
    "\n",
    "age: Muestra la edad de la persona.\n",
    "\n",
    "sex: Muestra el género del individuo usando el siguiente formato: 1 = masculino 0 = femenino\n",
    "\n",
    "cp - Tipo de dolor torácico: Muestra el tipo de dolor torácico experimentado por el individuo utilizando el siguiente formato: 0 = angina típica 1 = angina atípica 2 = dolor no anginoso 3 = asintótico\n",
    "\n",
    "trestbps- Presión arterial en reposo: muestra el valor de la presión arterial en reposo de una persona en mmHg (unidad). cualquier cosa por encima de 130-140 suele ser motivo de preocupación.\n",
    "\n",
    "chol- Colesterol sérico: muestra el colesterol sérico en mg/dl (unidad)\n",
    "\n",
    "fbs- Azúcar en sangre en ayunas: compara el valor de azúcar en sangre en ayunas de un individuo con 120 mg/dl. Si el nivel de azúcar en sangre en ayunas es > 120 mg/dl, entonces: 1 (verdadero) de lo contrario: 0 (falso) '>126' mg/dl indica diabetes\n",
    "\n",
    "restecg- ECG en reposo: muestra los resultados electrocardiográficos en reposo 0 = normal 1 = tiene anomalías en la onda ST-T 2 = hipertrofia ventricular izquierda\n",
    "\n",
    "thalach- Frecuencia cardíaca máxima alcanzada: muestra la frecuencia cardíaca máxima alcanzada por una persona.\n",
    "\n",
    "exang- Angina inducida por el ejercicio: 1 = sí 0 = no\n",
    "\n",
    "oldpeak- Depresión del ST inducida por el ejercicio en relación con el reposo: muestra el valor que es un número entero o flotante.\n",
    "\n",
    "Pendiente: Pendiente del segmento ST del ejercicio máximo: 0 = pendiente ascendente: mejor frecuencia cardíaca con el ejercicio (poco común) 1 = plana: cambio mínimo (típico corazón sano) 2 = pendiente descendente: signos de corazón no saludable\n",
    "\n",
    "ca- Número de vasos principales (0–3) coloreados por fluoroscopia: muestra el valor como entero o flotante.\n",
    "\n",
    "thal: Muestra la talasemia: 1,3 = normal 6 = defecto fijo 7 = defecto reversible: no hay circulación sanguínea adecuada al hacer ejercicio\n",
    "\n",
    "target : Muestra si el individuo sufre o no una enfermedad cardíaca : 1 = sí 0 = no"
   ]
  },
  {
   "cell_type": "markdown",
   "metadata": {},
   "source": []
  },
  {
   "cell_type": "code",
   "execution_count": 81,
   "metadata": {},
   "outputs": [
    {
     "name": "stdout",
     "output_type": "stream",
     "text": [
      "<class 'pandas.core.frame.DataFrame'>\n",
      "RangeIndex: 303 entries, 0 to 302\n",
      "Data columns (total 16 columns):\n",
      " #   Column      Non-Null Count  Dtype  \n",
      "---  ------      --------------  -----  \n",
      " 0   Unnamed: 0  303 non-null    int64  \n",
      " 1   xd          303 non-null    int64  \n",
      " 2   age         303 non-null    object \n",
      " 3   sex         303 non-null    int64  \n",
      " 4   cp          299 non-null    float64\n",
      " 5   trestbps    302 non-null    float64\n",
      " 6   chol        303 non-null    int64  \n",
      " 7   fbs         303 non-null    int64  \n",
      " 8   restecg     298 non-null    float64\n",
      " 9   thalach     303 non-null    int64  \n",
      " 10  exang       303 non-null    float64\n",
      " 11  oldpeak     303 non-null    int64  \n",
      " 12  slope       303 non-null    int64  \n",
      " 13  ca          303 non-null    int64  \n",
      " 14  thal        303 non-null    object \n",
      " 15  target      0 non-null      float64\n",
      "dtypes: float64(5), int64(9), object(2)\n",
      "memory usage: 38.0+ KB\n"
     ]
    }
   ],
   "source": [
    "enfermedades.info()"
   ]
  },
  {
   "cell_type": "code",
   "execution_count": 82,
   "metadata": {},
   "outputs": [],
   "source": [
    "def setGender(gender):\n",
    "    return 1 if gender == \"male\" else 0\n",
    "\n",
    "def setTarget(target):\n",
    "    return 1 if target == \"yes\" else 0"
   ]
  },
  {
   "cell_type": "markdown",
   "metadata": {},
   "source": [
    "MODIFICANDO LOS VALORES DE LAS COLUMNAS QUE NO SON NÚMEROS"
   ]
  },
  {
   "cell_type": "code",
   "execution_count": 83,
   "metadata": {},
   "outputs": [],
   "source": [
    "enfermedades[\"target\"] = enfermedades.target.apply(setTarget)\n",
    "enfermedades[\"sex\"] = enfermedades.sex.apply(setGender)"
   ]
  },
  {
   "cell_type": "code",
   "execution_count": 84,
   "metadata": {},
   "outputs": [
    {
     "data": {
      "text/html": [
       "<div>\n",
       "<style scoped>\n",
       "    .dataframe tbody tr th:only-of-type {\n",
       "        vertical-align: middle;\n",
       "    }\n",
       "\n",
       "    .dataframe tbody tr th {\n",
       "        vertical-align: top;\n",
       "    }\n",
       "\n",
       "    .dataframe thead th {\n",
       "        text-align: right;\n",
       "    }\n",
       "</style>\n",
       "<table border=\"1\" class=\"dataframe\">\n",
       "  <thead>\n",
       "    <tr style=\"text-align: right;\">\n",
       "      <th></th>\n",
       "      <th>Unnamed: 0</th>\n",
       "      <th>xd</th>\n",
       "      <th>age</th>\n",
       "      <th>sex</th>\n",
       "      <th>cp</th>\n",
       "      <th>trestbps</th>\n",
       "      <th>chol</th>\n",
       "      <th>fbs</th>\n",
       "      <th>restecg</th>\n",
       "      <th>thalach</th>\n",
       "      <th>exang</th>\n",
       "      <th>oldpeak</th>\n",
       "      <th>slope</th>\n",
       "      <th>ca</th>\n",
       "      <th>thal</th>\n",
       "      <th>target</th>\n",
       "    </tr>\n",
       "  </thead>\n",
       "  <tbody>\n",
       "    <tr>\n",
       "      <th>0</th>\n",
       "      <td>0</td>\n",
       "      <td>63</td>\n",
       "      <td>male</td>\n",
       "      <td>0</td>\n",
       "      <td>145.0</td>\n",
       "      <td>233.0</td>\n",
       "      <td>1</td>\n",
       "      <td>0</td>\n",
       "      <td>150.0</td>\n",
       "      <td>0</td>\n",
       "      <td>2.3</td>\n",
       "      <td>0</td>\n",
       "      <td>0</td>\n",
       "      <td>1</td>\n",
       "      <td>yes</td>\n",
       "      <td>0</td>\n",
       "    </tr>\n",
       "    <tr>\n",
       "      <th>1</th>\n",
       "      <td>1</td>\n",
       "      <td>37</td>\n",
       "      <td>male</td>\n",
       "      <td>0</td>\n",
       "      <td>130.0</td>\n",
       "      <td>250.0</td>\n",
       "      <td>0</td>\n",
       "      <td>1</td>\n",
       "      <td>187.0</td>\n",
       "      <td>0</td>\n",
       "      <td>3.5</td>\n",
       "      <td>0</td>\n",
       "      <td>0</td>\n",
       "      <td>2</td>\n",
       "      <td>yes</td>\n",
       "      <td>0</td>\n",
       "    </tr>\n",
       "    <tr>\n",
       "      <th>2</th>\n",
       "      <td>2</td>\n",
       "      <td>41</td>\n",
       "      <td>female</td>\n",
       "      <td>0</td>\n",
       "      <td>130.0</td>\n",
       "      <td>204.0</td>\n",
       "      <td>0</td>\n",
       "      <td>0</td>\n",
       "      <td>172.0</td>\n",
       "      <td>0</td>\n",
       "      <td>1.4</td>\n",
       "      <td>2</td>\n",
       "      <td>0</td>\n",
       "      <td>2</td>\n",
       "      <td>yes</td>\n",
       "      <td>0</td>\n",
       "    </tr>\n",
       "    <tr>\n",
       "      <th>3</th>\n",
       "      <td>3</td>\n",
       "      <td>56</td>\n",
       "      <td>male</td>\n",
       "      <td>0</td>\n",
       "      <td>120.0</td>\n",
       "      <td>236.0</td>\n",
       "      <td>0</td>\n",
       "      <td>1</td>\n",
       "      <td>178.0</td>\n",
       "      <td>0</td>\n",
       "      <td>0.8</td>\n",
       "      <td>2</td>\n",
       "      <td>0</td>\n",
       "      <td>2</td>\n",
       "      <td>yes</td>\n",
       "      <td>0</td>\n",
       "    </tr>\n",
       "    <tr>\n",
       "      <th>4</th>\n",
       "      <td>4</td>\n",
       "      <td>57</td>\n",
       "      <td>female</td>\n",
       "      <td>0</td>\n",
       "      <td>NaN</td>\n",
       "      <td>354.0</td>\n",
       "      <td>0</td>\n",
       "      <td>1</td>\n",
       "      <td>163.0</td>\n",
       "      <td>1</td>\n",
       "      <td>0.6</td>\n",
       "      <td>2</td>\n",
       "      <td>0</td>\n",
       "      <td>2</td>\n",
       "      <td>yes</td>\n",
       "      <td>0</td>\n",
       "    </tr>\n",
       "    <tr>\n",
       "      <th>...</th>\n",
       "      <td>...</td>\n",
       "      <td>...</td>\n",
       "      <td>...</td>\n",
       "      <td>...</td>\n",
       "      <td>...</td>\n",
       "      <td>...</td>\n",
       "      <td>...</td>\n",
       "      <td>...</td>\n",
       "      <td>...</td>\n",
       "      <td>...</td>\n",
       "      <td>...</td>\n",
       "      <td>...</td>\n",
       "      <td>...</td>\n",
       "      <td>...</td>\n",
       "      <td>...</td>\n",
       "      <td>...</td>\n",
       "    </tr>\n",
       "    <tr>\n",
       "      <th>298</th>\n",
       "      <td>298</td>\n",
       "      <td>57</td>\n",
       "      <td>female</td>\n",
       "      <td>0</td>\n",
       "      <td>140.0</td>\n",
       "      <td>241.0</td>\n",
       "      <td>0</td>\n",
       "      <td>1</td>\n",
       "      <td>123.0</td>\n",
       "      <td>1</td>\n",
       "      <td>0.2</td>\n",
       "      <td>1</td>\n",
       "      <td>0</td>\n",
       "      <td>3</td>\n",
       "      <td>no</td>\n",
       "      <td>0</td>\n",
       "    </tr>\n",
       "    <tr>\n",
       "      <th>299</th>\n",
       "      <td>299</td>\n",
       "      <td>45</td>\n",
       "      <td>male</td>\n",
       "      <td>0</td>\n",
       "      <td>110.0</td>\n",
       "      <td>264.0</td>\n",
       "      <td>0</td>\n",
       "      <td>1</td>\n",
       "      <td>132.0</td>\n",
       "      <td>0</td>\n",
       "      <td>1.2</td>\n",
       "      <td>1</td>\n",
       "      <td>0</td>\n",
       "      <td>3</td>\n",
       "      <td>no</td>\n",
       "      <td>0</td>\n",
       "    </tr>\n",
       "    <tr>\n",
       "      <th>300</th>\n",
       "      <td>300</td>\n",
       "      <td>68</td>\n",
       "      <td>male</td>\n",
       "      <td>0</td>\n",
       "      <td>144.0</td>\n",
       "      <td>193.0</td>\n",
       "      <td>1</td>\n",
       "      <td>1</td>\n",
       "      <td>141.0</td>\n",
       "      <td>0</td>\n",
       "      <td>3.4</td>\n",
       "      <td>1</td>\n",
       "      <td>2</td>\n",
       "      <td>3</td>\n",
       "      <td>no</td>\n",
       "      <td>0</td>\n",
       "    </tr>\n",
       "    <tr>\n",
       "      <th>301</th>\n",
       "      <td>301</td>\n",
       "      <td>57</td>\n",
       "      <td>male</td>\n",
       "      <td>0</td>\n",
       "      <td>NaN</td>\n",
       "      <td>131.0</td>\n",
       "      <td>0</td>\n",
       "      <td>1</td>\n",
       "      <td>115.0</td>\n",
       "      <td>1</td>\n",
       "      <td>1.2</td>\n",
       "      <td>1</td>\n",
       "      <td>1</td>\n",
       "      <td>3</td>\n",
       "      <td>no</td>\n",
       "      <td>0</td>\n",
       "    </tr>\n",
       "    <tr>\n",
       "      <th>302</th>\n",
       "      <td>302</td>\n",
       "      <td>57</td>\n",
       "      <td>female</td>\n",
       "      <td>0</td>\n",
       "      <td>130.0</td>\n",
       "      <td>236.0</td>\n",
       "      <td>0</td>\n",
       "      <td>0</td>\n",
       "      <td>174.0</td>\n",
       "      <td>0</td>\n",
       "      <td>0.0</td>\n",
       "      <td>1</td>\n",
       "      <td>1</td>\n",
       "      <td>2</td>\n",
       "      <td>no</td>\n",
       "      <td>0</td>\n",
       "    </tr>\n",
       "  </tbody>\n",
       "</table>\n",
       "<p>303 rows × 16 columns</p>\n",
       "</div>"
      ],
      "text/plain": [
       "     Unnamed: 0  xd     age  sex     cp  trestbps  chol  fbs  restecg  \\\n",
       "0             0  63    male    0  145.0     233.0     1    0    150.0   \n",
       "1             1  37    male    0  130.0     250.0     0    1    187.0   \n",
       "2             2  41  female    0  130.0     204.0     0    0    172.0   \n",
       "3             3  56    male    0  120.0     236.0     0    1    178.0   \n",
       "4             4  57  female    0    NaN     354.0     0    1    163.0   \n",
       "..          ...  ..     ...  ...    ...       ...   ...  ...      ...   \n",
       "298         298  57  female    0  140.0     241.0     0    1    123.0   \n",
       "299         299  45    male    0  110.0     264.0     0    1    132.0   \n",
       "300         300  68    male    0  144.0     193.0     1    1    141.0   \n",
       "301         301  57    male    0    NaN     131.0     0    1    115.0   \n",
       "302         302  57  female    0  130.0     236.0     0    0    174.0   \n",
       "\n",
       "     thalach  exang  oldpeak  slope  ca thal  target  \n",
       "0          0    2.3        0      0   1  yes       0  \n",
       "1          0    3.5        0      0   2  yes       0  \n",
       "2          0    1.4        2      0   2  yes       0  \n",
       "3          0    0.8        2      0   2  yes       0  \n",
       "4          1    0.6        2      0   2  yes       0  \n",
       "..       ...    ...      ...    ...  ..  ...     ...  \n",
       "298        1    0.2        1      0   3   no       0  \n",
       "299        0    1.2        1      0   3   no       0  \n",
       "300        0    3.4        1      2   3   no       0  \n",
       "301        1    1.2        1      1   3   no       0  \n",
       "302        0    0.0        1      1   2   no       0  \n",
       "\n",
       "[303 rows x 16 columns]"
      ]
     },
     "execution_count": 84,
     "metadata": {},
     "output_type": "execute_result"
    }
   ],
   "source": [
    "enfermedades"
   ]
  },
  {
   "cell_type": "code",
   "execution_count": 85,
   "metadata": {},
   "outputs": [
    {
     "data": {
      "text/plain": [
       "Unnamed: 0    0\n",
       "xd            0\n",
       "age           0\n",
       "sex           0\n",
       "cp            4\n",
       "trestbps      1\n",
       "chol          0\n",
       "fbs           0\n",
       "restecg       5\n",
       "thalach       0\n",
       "exang         0\n",
       "oldpeak       0\n",
       "slope         0\n",
       "ca            0\n",
       "thal          0\n",
       "target        0\n",
       "dtype: int64"
      ]
     },
     "execution_count": 85,
     "metadata": {},
     "output_type": "execute_result"
    }
   ],
   "source": [
    "enfermedades.isnull().sum()"
   ]
  },
  {
   "cell_type": "code",
   "execution_count": 86,
   "metadata": {},
   "outputs": [],
   "source": [
    "columnas = enfermedades.columns\n",
    "# Conjunto de variables de entrada\n",
    "X = enfermedades.iloc[:, 1:].values\n",
    "# Conjunto de variables de salida\n",
    "y = enfermedades.iloc[:, 0].values"
   ]
  },
  {
   "cell_type": "code",
   "execution_count": 87,
   "metadata": {},
   "outputs": [
    {
     "ename": "ValueError",
     "evalue": "could not convert string to float: 'female'",
     "output_type": "error",
     "traceback": [
      "\u001b[1;31m---------------------------------------------------------------------------\u001b[0m",
      "\u001b[1;31mValueError\u001b[0m                                Traceback (most recent call last)",
      "\u001b[1;32md:\\Documentos\\Proyectos\\mainframes\\server\\notebook.ipynb Celda 14\u001b[0m in \u001b[0;36m<cell line: 10>\u001b[1;34m()\u001b[0m\n\u001b[0;32m      <a href='vscode-notebook-cell:/d%3A/Documentos/Proyectos/mainframes/server/notebook.ipynb#ch0000018?line=7'>8</a>\u001b[0m \u001b[39m# Librerías necesarias\u001b[39;00m\n\u001b[0;32m      <a href='vscode-notebook-cell:/d%3A/Documentos/Proyectos/mainframes/server/notebook.ipynb#ch0000018?line=8'>9</a>\u001b[0m imputer \u001b[39m=\u001b[39m IterativeImputer(estimator\u001b[39m=\u001b[39mDecisionTreeRegressor(), max_iter\u001b[39m=\u001b[39m\u001b[39m10\u001b[39m, imputation_order\u001b[39m=\u001b[39m\u001b[39m\"\u001b[39m\u001b[39mascending\u001b[39m\u001b[39m\"\u001b[39m, random_state\u001b[39m=\u001b[39m\u001b[39m21\u001b[39m)\n\u001b[1;32m---> <a href='vscode-notebook-cell:/d%3A/Documentos/Proyectos/mainframes/server/notebook.ipynb#ch0000018?line=9'>10</a>\u001b[0m X_train \u001b[39m=\u001b[39m imputer\u001b[39m.\u001b[39;49mfit_transform(X_train)\n\u001b[0;32m     <a href='vscode-notebook-cell:/d%3A/Documentos/Proyectos/mainframes/server/notebook.ipynb#ch0000018?line=10'>11</a>\u001b[0m X_test \u001b[39m=\u001b[39m imputer\u001b[39m.\u001b[39mtransform(X_test)\n",
      "File \u001b[1;32m~\\AppData\\Local\\Packages\\PythonSoftwareFoundation.Python.3.10_qbz5n2kfra8p0\\LocalCache\\local-packages\\Python310\\site-packages\\sklearn\\impute\\_iterative.py:619\u001b[0m, in \u001b[0;36mIterativeImputer.fit_transform\u001b[1;34m(self, X, y)\u001b[0m\n\u001b[0;32m    615\u001b[0m \u001b[39mself\u001b[39m\u001b[39m.\u001b[39mimputation_sequence_ \u001b[39m=\u001b[39m []\n\u001b[0;32m    617\u001b[0m \u001b[39mself\u001b[39m\u001b[39m.\u001b[39minitial_imputer_ \u001b[39m=\u001b[39m \u001b[39mNone\u001b[39;00m\n\u001b[1;32m--> 619\u001b[0m X, Xt, mask_missing_values, complete_mask \u001b[39m=\u001b[39m \u001b[39mself\u001b[39;49m\u001b[39m.\u001b[39;49m_initial_imputation(\n\u001b[0;32m    620\u001b[0m     X, in_fit\u001b[39m=\u001b[39;49m\u001b[39mTrue\u001b[39;49;00m\n\u001b[0;32m    621\u001b[0m )\n\u001b[0;32m    623\u001b[0m \u001b[39msuper\u001b[39m()\u001b[39m.\u001b[39m_fit_indicator(complete_mask)\n\u001b[0;32m    624\u001b[0m X_indicator \u001b[39m=\u001b[39m \u001b[39msuper\u001b[39m()\u001b[39m.\u001b[39m_transform_indicator(complete_mask)\n",
      "File \u001b[1;32m~\\AppData\\Local\\Packages\\PythonSoftwareFoundation.Python.3.10_qbz5n2kfra8p0\\LocalCache\\local-packages\\Python310\\site-packages\\sklearn\\impute\\_iterative.py:515\u001b[0m, in \u001b[0;36mIterativeImputer._initial_imputation\u001b[1;34m(self, X, in_fit)\u001b[0m\n\u001b[0;32m    512\u001b[0m \u001b[39melse\u001b[39;00m:\n\u001b[0;32m    513\u001b[0m     force_all_finite \u001b[39m=\u001b[39m \u001b[39mTrue\u001b[39;00m\n\u001b[1;32m--> 515\u001b[0m X \u001b[39m=\u001b[39m \u001b[39mself\u001b[39;49m\u001b[39m.\u001b[39;49m_validate_data(\n\u001b[0;32m    516\u001b[0m     X,\n\u001b[0;32m    517\u001b[0m     dtype\u001b[39m=\u001b[39;49mFLOAT_DTYPES,\n\u001b[0;32m    518\u001b[0m     order\u001b[39m=\u001b[39;49m\u001b[39m\"\u001b[39;49m\u001b[39mF\u001b[39;49m\u001b[39m\"\u001b[39;49m,\n\u001b[0;32m    519\u001b[0m     reset\u001b[39m=\u001b[39;49min_fit,\n\u001b[0;32m    520\u001b[0m     force_all_finite\u001b[39m=\u001b[39;49mforce_all_finite,\n\u001b[0;32m    521\u001b[0m )\n\u001b[0;32m    522\u001b[0m _check_inputs_dtype(X, \u001b[39mself\u001b[39m\u001b[39m.\u001b[39mmissing_values)\n\u001b[0;32m    524\u001b[0m X_missing_mask \u001b[39m=\u001b[39m _get_mask(X, \u001b[39mself\u001b[39m\u001b[39m.\u001b[39mmissing_values)\n",
      "File \u001b[1;32m~\\AppData\\Local\\Packages\\PythonSoftwareFoundation.Python.3.10_qbz5n2kfra8p0\\LocalCache\\local-packages\\Python310\\site-packages\\sklearn\\base.py:577\u001b[0m, in \u001b[0;36mBaseEstimator._validate_data\u001b[1;34m(self, X, y, reset, validate_separately, **check_params)\u001b[0m\n\u001b[0;32m    575\u001b[0m     \u001b[39mraise\u001b[39;00m \u001b[39mValueError\u001b[39;00m(\u001b[39m\"\u001b[39m\u001b[39mValidation should be done on X, y or both.\u001b[39m\u001b[39m\"\u001b[39m)\n\u001b[0;32m    576\u001b[0m \u001b[39melif\u001b[39;00m \u001b[39mnot\u001b[39;00m no_val_X \u001b[39mand\u001b[39;00m no_val_y:\n\u001b[1;32m--> 577\u001b[0m     X \u001b[39m=\u001b[39m check_array(X, input_name\u001b[39m=\u001b[39m\u001b[39m\"\u001b[39m\u001b[39mX\u001b[39m\u001b[39m\"\u001b[39m, \u001b[39m*\u001b[39m\u001b[39m*\u001b[39mcheck_params)\n\u001b[0;32m    578\u001b[0m     out \u001b[39m=\u001b[39m X\n\u001b[0;32m    579\u001b[0m \u001b[39melif\u001b[39;00m no_val_X \u001b[39mand\u001b[39;00m \u001b[39mnot\u001b[39;00m no_val_y:\n",
      "File \u001b[1;32m~\\AppData\\Local\\Packages\\PythonSoftwareFoundation.Python.3.10_qbz5n2kfra8p0\\LocalCache\\local-packages\\Python310\\site-packages\\sklearn\\utils\\validation.py:856\u001b[0m, in \u001b[0;36mcheck_array\u001b[1;34m(array, accept_sparse, accept_large_sparse, dtype, order, copy, force_all_finite, ensure_2d, allow_nd, ensure_min_samples, ensure_min_features, estimator, input_name)\u001b[0m\n\u001b[0;32m    854\u001b[0m         array \u001b[39m=\u001b[39m array\u001b[39m.\u001b[39mastype(dtype, casting\u001b[39m=\u001b[39m\u001b[39m\"\u001b[39m\u001b[39munsafe\u001b[39m\u001b[39m\"\u001b[39m, copy\u001b[39m=\u001b[39m\u001b[39mFalse\u001b[39;00m)\n\u001b[0;32m    855\u001b[0m     \u001b[39melse\u001b[39;00m:\n\u001b[1;32m--> 856\u001b[0m         array \u001b[39m=\u001b[39m np\u001b[39m.\u001b[39;49masarray(array, order\u001b[39m=\u001b[39;49morder, dtype\u001b[39m=\u001b[39;49mdtype)\n\u001b[0;32m    857\u001b[0m \u001b[39mexcept\u001b[39;00m ComplexWarning \u001b[39mas\u001b[39;00m complex_warning:\n\u001b[0;32m    858\u001b[0m     \u001b[39mraise\u001b[39;00m \u001b[39mValueError\u001b[39;00m(\n\u001b[0;32m    859\u001b[0m         \u001b[39m\"\u001b[39m\u001b[39mComplex data not supported\u001b[39m\u001b[39m\\n\u001b[39;00m\u001b[39m{}\u001b[39;00m\u001b[39m\\n\u001b[39;00m\u001b[39m\"\u001b[39m\u001b[39m.\u001b[39mformat(array)\n\u001b[0;32m    860\u001b[0m     ) \u001b[39mfrom\u001b[39;00m \u001b[39mcomplex_warning\u001b[39;00m\n",
      "\u001b[1;31mValueError\u001b[0m: could not convert string to float: 'female'"
     ]
    }
   ],
   "source": [
    "from sklearn.model_selection import train_test_split\n",
    "from sklearn.experimental import enable_iterative_imputer\n",
    "from sklearn.impute import IterativeImputer\n",
    "from sklearn.tree import DecisionTreeRegressor \n",
    "\n",
    "# Conjunto de entrenamiento y prueba\n",
    "X_train, X_test, y_train, y_test = train_test_split(X, y, test_size=0.20)\n",
    "# Librerías necesarias\n",
    "imputer = IterativeImputer(estimator=DecisionTreeRegressor(), max_iter=10, imputation_order=\"ascending\", random_state=21)\n",
    "X_train = imputer.fit_transform(X_train)\n",
    "X_test = imputer.transform(X_test)"
   ]
  },
  {
   "cell_type": "code",
   "execution_count": null,
   "metadata": {},
   "outputs": [],
   "source": [
    "# Conversión de los conjuntos de entrenamiento y prueba a DataFrame\n",
    "X_train = pd.DataFrame(X_train)\n",
    "X_test = pd.DataFrame(X_test)\n",
    "y_train = pd.DataFrame(y_train)\n",
    "y_test = pd.DataFrame(y_test)"
   ]
  },
  {
   "cell_type": "code",
   "execution_count": null,
   "metadata": {},
   "outputs": [],
   "source": [
    "# Concatenación de los conjuntos de entrenamiento y prueba en variables de entrada y salida\n",
    "X = pd.concat([X_train, X_test], axis=0)\n",
    "y = pd.concat([y_train, y_test], axis=0)"
   ]
  },
  {
   "cell_type": "code",
   "execution_count": null,
   "metadata": {},
   "outputs": [],
   "source": [
    "# Concatenación de los conjuntos de entrada y salida a un conjunto global\n",
    "data = pd.concat([y, X], axis=1)\n",
    "\n",
    "# Le devolvemos los nombres a las columnas\n",
    "data.columns = columnas\n",
    "\n",
    "data.isnull().sum()"
   ]
  },
  {
   "cell_type": "code",
   "execution_count": null,
   "metadata": {},
   "outputs": [],
   "source": [
    "enfermedades"
   ]
  },
  {
   "cell_type": "code",
   "execution_count": null,
   "metadata": {},
   "outputs": [],
   "source": [
    "data = data.sort_values(by=\"id\")"
   ]
  },
  {
   "cell_type": "code",
   "execution_count": null,
   "metadata": {},
   "outputs": [],
   "source": [
    "data.to_csv('./data/DATOS.csv')"
   ]
  }
 ],
 "metadata": {
  "kernelspec": {
   "display_name": "Python 3.10.5 64-bit (windows store)",
   "language": "python",
   "name": "python3"
  },
  "language_info": {
   "codemirror_mode": {
    "name": "ipython",
    "version": 3
   },
   "file_extension": ".py",
   "mimetype": "text/x-python",
   "name": "python",
   "nbconvert_exporter": "python",
   "pygments_lexer": "ipython3",
   "version": "3.10.5"
  },
  "orig_nbformat": 4,
  "vscode": {
   "interpreter": {
    "hash": "0b94bd9fbd4e20c3d5cad4da6ca28d78d3e3935a5b18bf1687192c9e0e2b8bdd"
   }
  }
 },
 "nbformat": 4,
 "nbformat_minor": 2
}
